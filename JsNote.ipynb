{
 "cells": [
  {
   "cell_type": "code",
   "execution_count": 1,
   "metadata": {
    "collapsed": false
   },
   "outputs": [
    {
     "data": {
      "text/plain": [
       "' JS Comment\\nThe following TF example could be treated as an implementation for \\n\"A Simple Machine Learning Example\" as described at \\nhttps://www.toptal.com/machine-learning/machine-learning-theory-an-introductory-primer\\n'"
      ]
     },
     "execution_count": 1,
     "metadata": {},
     "output_type": "execute_result"
    }
   ],
   "source": [
    "\"\"\" JS Comment\n",
    "The following TF example could be treated as an implementation for \n",
    "\"A Simple Machine Learning Example\" as described at \n",
    "https://www.toptal.com/machine-learning/machine-learning-theory-an-introductory-primer\n",
    "\"\"\""
   ]
  },
  {
   "cell_type": "code",
   "execution_count": 2,
   "metadata": {
    "collapsed": false
   },
   "outputs": [
    {
     "ename": "AttributeError",
     "evalue": "'module' object has no attribute 'global_variables_initializer'",
     "output_type": "error",
     "traceback": [
      "\u001b[0;31m---------------------------------------------------------------------------\u001b[0m",
      "\u001b[0;31mAttributeError\u001b[0m                            Traceback (most recent call last)",
      "\u001b[0;32m<ipython-input-2-0b60611de705>\u001b[0m in \u001b[0;36m<module>\u001b[0;34m()\u001b[0m\n\u001b[1;32m     19\u001b[0m \u001b[0;34m\u001b[0m\u001b[0m\n\u001b[1;32m     20\u001b[0m \u001b[0;31m# Before starting, initialize the variables.  We will 'run' this first.\u001b[0m\u001b[0;34m\u001b[0m\u001b[0;34m\u001b[0m\u001b[0m\n\u001b[0;32m---> 21\u001b[0;31m \u001b[0minit\u001b[0m \u001b[0;34m=\u001b[0m \u001b[0mtf\u001b[0m\u001b[0;34m.\u001b[0m\u001b[0mglobal_variables_initializer\u001b[0m\u001b[0;34m(\u001b[0m\u001b[0;34m)\u001b[0m\u001b[0;34m\u001b[0m\u001b[0m\n\u001b[0m\u001b[1;32m     22\u001b[0m \u001b[0;34m\u001b[0m\u001b[0m\n\u001b[1;32m     23\u001b[0m \u001b[0;31m# Launch the graph.\u001b[0m\u001b[0;34m\u001b[0m\u001b[0;34m\u001b[0m\u001b[0m\n",
      "\u001b[0;31mAttributeError\u001b[0m: 'module' object has no attribute 'global_variables_initializer'"
     ]
    }
   ],
   "source": [
    "import tensorflow as tf\n",
    "import numpy as np\n",
    "\n",
    "# Create 100 phony x, y data points in NumPy, y = x * 0.1 + 0.3\n",
    "x_data = np.random.rand(100).astype(np.float32)\n",
    "y_data = x_data * 0.1 + 0.3\n",
    "\n",
    "# Try to find values for W and b that compute y_data = W * x_data + b\n",
    "# (We know that W should be 0.1 and b 0.3, but TensorFlow will\n",
    "# figure that out for us.)\n",
    "W = tf.Variable(tf.random_uniform([1], -1.0, 1.0))\n",
    "b = tf.Variable(tf.zeros([1]))\n",
    "y = W * x_data + b\n",
    "\n",
    "# Minimize the mean squared errors.\n",
    "loss = tf.reduce_mean(tf.square(y - y_data))\n",
    "optimizer = tf.train.GradientDescentOptimizer(0.5)\n",
    "train = optimizer.minimize(loss)\n",
    "\n",
    "# Before starting, initialize the variables.  We will 'run' this first.\n",
    "init = tf.global_variables_initializer()\n",
    "\n",
    "# Launch the graph.\n",
    "sess = tf.Session()\n",
    "sess.run(init)\n",
    "\n",
    "# Fit the line.\n",
    "for step in range(201):\n",
    "    sess.run(train)\n",
    "    if step % 20 == 0:\n",
    "        print(step, sess.run(W), sess.run(b))\n",
    "\n",
    "# Learns best fit is W: [0.1], b: [0.3]"
   ]
  },
  {
   "cell_type": "code",
   "execution_count": 3,
   "metadata": {
    "collapsed": false
   },
   "outputs": [
    {
     "ename": "AttributeError",
     "evalue": "'module' object has no attribute 'global_variables_initializer'",
     "output_type": "error",
     "traceback": [
      "\u001b[0;31m---------------------------------------------------------------------------\u001b[0m",
      "\u001b[0;31mAttributeError\u001b[0m                            Traceback (most recent call last)",
      "\u001b[0;32m<ipython-input-3-08f4171cee83>\u001b[0m in \u001b[0;36m<module>\u001b[0;34m()\u001b[0m\n\u001b[0;32m----> 1\u001b[0;31m \u001b[0minit\u001b[0m \u001b[0;34m=\u001b[0m \u001b[0mtf\u001b[0m\u001b[0;34m.\u001b[0m\u001b[0mglobal_variables_initializer\u001b[0m\u001b[0;34m(\u001b[0m\u001b[0;34m)\u001b[0m\u001b[0;34m\u001b[0m\u001b[0m\n\u001b[0m",
      "\u001b[0;31mAttributeError\u001b[0m: 'module' object has no attribute 'global_variables_initializer'"
     ]
    }
   ],
   "source": [
    "init = tf.global_variables_initializer()"
   ]
  },
  {
   "cell_type": "code",
   "execution_count": 4,
   "metadata": {
    "collapsed": true
   },
   "outputs": [],
   "source": [
    "# JS Comment\n",
    "# Correct global_variables_initializer to be initialize_all_variables\n",
    "init = tf.initialize_all_variables()"
   ]
  },
  {
   "cell_type": "code",
   "execution_count": 5,
   "metadata": {
    "collapsed": false
   },
   "outputs": [
    {
     "name": "stdout",
     "output_type": "stream",
     "text": [
      "(0, array([ 0.73300499], dtype=float32), array([-0.05474651], dtype=float32))\n",
      "(20, array([ 0.27341852], dtype=float32), array([ 0.20844421], dtype=float32))\n",
      "(40, array([ 0.14688142], dtype=float32), array([ 0.27524912], dtype=float32))\n",
      "(60, array([ 0.11267376], dtype=float32), array([ 0.29330894], dtype=float32))\n",
      "(80, array([ 0.10342619], dtype=float32), array([ 0.29819116], dtype=float32))\n",
      "(100, array([ 0.10092623], dtype=float32), array([ 0.29951102], dtype=float32))\n",
      "(120, array([ 0.10025039], dtype=float32), array([ 0.29986781], dtype=float32))\n",
      "(140, array([ 0.10006768], dtype=float32), array([ 0.29996428], dtype=float32))\n",
      "(160, array([ 0.10001829], dtype=float32), array([ 0.29999036], dtype=float32))\n",
      "(180, array([ 0.10000496], dtype=float32), array([ 0.29999739], dtype=float32))\n",
      "(200, array([ 0.10000134], dtype=float32), array([ 0.2999993], dtype=float32))\n"
     ]
    }
   ],
   "source": [
    "# Launch the graph.\n",
    "sess = tf.Session()\n",
    "sess.run(init)\n",
    "\n",
    "# Fit the line.\n",
    "for step in range(201):\n",
    "    sess.run(train)\n",
    "    if step % 20 == 0:\n",
    "        print(step, sess.run(W), sess.run(b))\n",
    "\n",
    "# Learns best fit is W: [0.1], b: [0.3]"
   ]
  },
  {
   "cell_type": "code",
   "execution_count": 6,
   "metadata": {
    "collapsed": false
   },
   "outputs": [
    {
     "data": {
      "text/plain": [
       "' JS Comment\\nFollowing is the illustration of np.random.rand\\nnumpy.random.rand(d0, d1, ..., dn)\\nRandom values in a given shape.\\n\\nCreate an array of the given shape and populate it with random samples from a uniform distribution over [0, 1).\\n\\nParameters:\\t\\nd0, d1, ..., dn : int, optional\\nThe dimensions of the returned array, should all be positive. If no argument is given a single Python float is returned.\\nReturns:\\t\\nout : ndarray, shape (d0, d1, ..., dn)\\nRandom values.\\n'"
      ]
     },
     "execution_count": 6,
     "metadata": {},
     "output_type": "execute_result"
    }
   ],
   "source": [
    "\"\"\" JS Comment\n",
    "Following is the illustration of np.random.rand\n",
    "numpy.random.rand(d0, d1, ..., dn)\n",
    "Random values in a given shape.\n",
    "\n",
    "Create an array of the given shape and populate it with random samples from a uniform distribution over [0, 1).\n",
    "\n",
    "Parameters:\t\n",
    "d0, d1, ..., dn : int, optional\n",
    "The dimensions of the returned array, should all be positive. If no argument is given a single Python float is returned.\n",
    "Returns:\t\n",
    "out : ndarray, shape (d0, d1, ..., dn)\n",
    "Random values.\n",
    "\"\"\""
   ]
  },
  {
   "cell_type": "code",
   "execution_count": 7,
   "metadata": {
    "collapsed": false
   },
   "outputs": [
    {
     "data": {
      "text/plain": [
       "array([[ 0.33234441,  0.81207218],\n",
       "       [ 0.03815916,  0.92770422],\n",
       "       [ 0.99123458,  0.77598703]])"
      ]
     },
     "execution_count": 7,
     "metadata": {},
     "output_type": "execute_result"
    }
   ],
   "source": [
    "np.random.rand(3,2)"
   ]
  },
  {
   "cell_type": "code",
   "execution_count": 8,
   "metadata": {
    "collapsed": false
   },
   "outputs": [
    {
     "data": {
      "text/plain": [
       "array([[[ 0.34196052,  0.57871219],\n",
       "        [ 0.21958943,  0.48992711]],\n",
       "\n",
       "       [[ 0.21646525,  0.29631346],\n",
       "        [ 0.67195522,  0.61265423]],\n",
       "\n",
       "       [[ 0.59020432,  0.20342817],\n",
       "        [ 0.60400803,  0.14083124]]])"
      ]
     },
     "execution_count": 8,
     "metadata": {},
     "output_type": "execute_result"
    }
   ],
   "source": [
    "np.random.rand(3,2,2)"
   ]
  },
  {
   "cell_type": "code",
   "execution_count": 9,
   "metadata": {
    "collapsed": false
   },
   "outputs": [
    {
     "data": {
      "text/plain": [
       "array([[[[ 0.74498977,  0.73802347],\n",
       "         [ 0.98020688,  0.30524357]],\n",
       "\n",
       "        [[ 0.59478247,  0.6744565 ],\n",
       "         [ 0.71159605,  0.35392092]]],\n",
       "\n",
       "\n",
       "       [[[ 0.34706725,  0.90744536],\n",
       "         [ 0.2242176 ,  0.87217952]],\n",
       "\n",
       "        [[ 0.73906819,  0.56942867],\n",
       "         [ 0.48293513,  0.94307421]]],\n",
       "\n",
       "\n",
       "       [[[ 0.66528267,  0.30219423],\n",
       "         [ 0.97178563,  0.24179359]],\n",
       "\n",
       "        [[ 0.23953549,  0.50287948],\n",
       "         [ 0.24358882,  0.24101976]]]])"
      ]
     },
     "execution_count": 9,
     "metadata": {},
     "output_type": "execute_result"
    }
   ],
   "source": [
    "np.random.rand(3,2,2,2)"
   ]
  },
  {
   "cell_type": "code",
   "execution_count": null,
   "metadata": {
    "collapsed": true
   },
   "outputs": [],
   "source": []
  }
 ],
 "metadata": {
  "kernelspec": {
   "display_name": "Python 2",
   "language": "python",
   "name": "python2"
  },
  "language_info": {
   "codemirror_mode": {
    "name": "ipython",
    "version": 2
   },
   "file_extension": ".py",
   "mimetype": "text/x-python",
   "name": "python",
   "nbconvert_exporter": "python",
   "pygments_lexer": "ipython2",
   "version": "2.7.6"
  }
 },
 "nbformat": 4,
 "nbformat_minor": 1
}
